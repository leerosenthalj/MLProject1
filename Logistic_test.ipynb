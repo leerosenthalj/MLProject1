{
 "cells": [
  {
   "cell_type": "code",
   "execution_count": 11,
   "metadata": {
    "collapsed": false
   },
   "outputs": [],
   "source": [
    "import numpy as np\n",
    "import matplotlib.pyplot as plt\n",
    "from sklearn.tree import DecisionTreeRegressor, DecisionTreeClassifier\n",
    "from sklearn.linear_model import LogisticRegression\n",
    "from sklearn import model_selection\n",
    "from sklearn.model_selection import KFold\n",
    "from IPython.display import HTML\n",
    "\n",
    "%matplotlib inline"
   ]
  },
  {
   "cell_type": "code",
   "execution_count": 2,
   "metadata": {
    "collapsed": true
   },
   "outputs": [],
   "source": [
    "training_data = np.loadtxt('training_data.txt', skiprows=1)\n",
    "test_data = np.loadtxt('test_data.txt', skiprows=1)\n",
    "\n",
    "X_train = training_data[:,1:]\n",
    "y_train = training_data[:,0]\n",
    "\n",
    "X_test = test_data"
   ]
  },
  {
   "cell_type": "code",
   "execution_count": 12,
   "metadata": {
    "collapsed": false
   },
   "outputs": [
    {
     "name": "stdout",
     "output_type": "stream",
     "text": [
      "(20000, 1000)\n"
     ]
    }
   ],
   "source": [
    "print(X_train.shape)"
   ]
  },
  {
   "cell_type": "code",
   "execution_count": 17,
   "metadata": {
    "collapsed": false
   },
   "outputs": [
    {
     "name": "stdout",
     "output_type": "stream",
     "text": [
      "0.8726\n",
      "0.87215\n",
      "0.87245\n",
      "0.8713\n",
      "0.87205\n"
     ]
    }
   ],
   "source": [
    "splitties = 5\n",
    "intercept_kf = np.zeros(splitties)\n",
    "coefs_kf = np.zeros((splitties, X_train.shape[1]))\n",
    "predicts = np.zeros((splitties, X_test.shape[0]))\n",
    "\n",
    "kf = KFold(n_splits=splitties, shuffle=True)\n",
    "KFold(n_splits=2, random_state=None, shuffle=False)\n",
    "i=0\n",
    "for train_index, test_index in kf.split(X_train):\n",
    "    X_train_kf, X_test_kf = X_train[train_index], X_train[test_index]\n",
    "    y_train_kf, y_test_kf = y_train[train_index], y_train[test_index]\n",
    "    \n",
    "    clf = LogisticRegression()\n",
    "    clf.fit(X_train_kf, y_train_kf)\n",
    "    print(clf.score(X_train, y_train))\n",
    "    intercept_kf[i] = clf.intercept_\n",
    "    coefs_kf[i,:] = clf.coef_\n",
    "    predicts[i,:] = clf.predict(X_test)\n",
    "    i+=1\n",
    "    \n",
    "    #print(clf.get_params())"
   ]
  },
  {
   "cell_type": "code",
   "execution_count": 20,
   "metadata": {
    "collapsed": false
   },
   "outputs": [],
   "source": [
    "predicts.shape\n",
    "predicts_avg = np.mean(predicts, axis=0)\n",
    "\n",
    "predicts_final = np.zeros(X_test.shape[1])\n",
    "for i in np.arange(X_test.shape[1]):\n",
    "    if predicts_avg[i] > 0.5:\n",
    "        predicts_final[i] = 1"
   ]
  },
  {
   "cell_type": "code",
   "execution_count": 21,
   "metadata": {
    "collapsed": false
   },
   "outputs": [
    {
     "name": "stdout",
     "output_type": "stream",
     "text": [
      "[ 1.  1.  0.  0.  0.  0.  1.  1.  1.  0.  1.  1.  1.  0.  0.  1.  0.  0.\n",
      "  1.  0.  0.  1.  1.  1.  0.  1.  0.  0.  0.  1.  1.  1.  0.  0.  0.  0.\n",
      "  0.  1.  0.  0.  1.  1.  1.  1.  1.  0.  0.  0.  1.  0.  0.  0.  0.  0.\n",
      "  0.  1.  0.  1.  1.  0.  1.  0.  0.  1.  0.  1.  0.  0.  1.  1.  0.  1.\n",
      "  1.  1.  1.  0.  0.  1.  0.  1.  0.  0.  0.  1.  0.  0.  1.  0.  0.  0.\n",
      "  0.  0.  0.  0.  0.  1.  0.  0.  0.  0.  0.  0.  1.  1.  0.  0.  1.  0.\n",
      "  1.  1.  0.  1.  0.  1.  0.  1.  0.  1.  1.  0.  1.  1.  1.  1.  0.  1.\n",
      "  1.  1.  1.  1.  1.  1.  1.  0.  0.  1.  0.  1.  0.  1.  1.  0.  1.  1.\n",
      "  0.  1.  1.  1.  1.  1.  1.  1.  1.  0.  1.  1.  0.  0.  1.  0.  1.  0.\n",
      "  1.  1.  1.  0.  0.  0.  0.  0.  1.  1.  1.  1.  0.  0.  1.  1.  0.  0.\n",
      "  1.  1.  0.  0.  1.  1.  0.  1.  0.  1.  0.  1.  1.  1.  0.  1.  0.  1.\n",
      "  1.  0.  1.  1.  1.  0.  1.  1.  1.  1.  0.  1.  1.  0.  0.  1.  0.  0.\n",
      "  1.  0.  1.  0.  0.  1.  0.  1.  0.  1.  1.  1.  1.  1.  0.  1.  1.  1.\n",
      "  1.  1.  0.  0.  0.  0.  0.  1.  0.  1.  0.  1.  0.  0.  1.  1.  0.  1.\n",
      "  0.  0.  1.  1.  1.  1.  0.  1.  0.  0.  0.  0.  1.  0.  0.  1.  0.  1.\n",
      "  1.  0.  1.  1.  1.  0.  1.  0.  1.  0.  1.  0.  1.  0.  0.  1.  0.  1.\n",
      "  1.  1.  1.  0.  0.  1.  0.  0.  0.  0.  0.  0.  1.  0.  0.  0.  1.  1.\n",
      "  0.  1.  0.  1.  0.  1.  1.  0.  1.  1.  1.  0.  0.  1.  0.  1.  1.  1.\n",
      "  0.  0.  0.  0.  0.  1.  0.  1.  0.  0.  0.  0.  1.  0.  1.  1.  0.  0.\n",
      "  0.  0.  1.  0.  1.  1.  1.  0.  1.  1.  1.  1.  0.  0.  0.  1.  1.  1.\n",
      "  0.  0.  1.  0.  1.  1.  1.  0.  1.  1.  1.  1.  0.  1.  1.  1.  0.  1.\n",
      "  1.  0.  0.  0.  1.  1.  0.  1.  1.  1.  0.  0.  1.  1.  1.  1.  1.  1.\n",
      "  1.  0.  1.  1.  1.  1.  1.  1.  1.  0.  0.  1.  0.  0.  1.  1.  0.  0.\n",
      "  0.  1.  0.  0.  0.  1.  0.  0.  1.  1.  1.  1.  0.  1.  1.  1.  0.  1.\n",
      "  0.  0.  0.  0.  1.  1.  0.  1.  1.  1.  1.  0.  1.  0.  1.  1.  1.  0.\n",
      "  1.  0.  1.  1.  0.  0.  1.  1.  1.  0.  1.  0.  1.  1.  0.  0.  1.  1.\n",
      "  0.  0.  0.  0.  1.  0.  0.  1.  0.  0.  1.  0.  0.  1.  0.  0.  1.  0.\n",
      "  0.  1.  1.  1.  1.  0.  1.  1.  1.  0.  1.  1.  0.  1.  1.  1.  1.  0.\n",
      "  0.  1.  0.  0.  1.  1.  1.  1.  1.  1.  1.  1.  0.  0.  0.  0.  0.  0.\n",
      "  0.  1.  0.  1.  0.  0.  1.  1.  0.  1.  0.  0.  0.  0.  0.  1.  1.  1.\n",
      "  0.  0.  1.  0.  1.  0.  1.  0.  0.  0.  0.  0.  1.  1.  0.  0.  1.  0.\n",
      "  1.  0.  1.  0.  1.  0.  0.  0.  0.  0.  1.  0.  1.  1.  0.  1.  0.  1.\n",
      "  1.  0.  1.  0.  0.  0.  1.  1.  0.  1.  1.  1.  0.  1.  1.  1.  0.  0.\n",
      "  1.  1.  0.  1.  0.  0.  0.  1.  0.  1.  1.  1.  1.  0.  1.  1.  0.  0.\n",
      "  0.  1.  0.  0.  1.  1.  1.  1.  1.  1.  1.  1.  0.  0.  0.  0.  1.  0.\n",
      "  1.  1.  1.  0.  1.  0.  0.  0.  1.  1.  1.  1.  1.  0.  0.  0.  1.  0.\n",
      "  0.  0.  0.  1.  0.  1.  1.  1.  0.  1.  1.  1.  0.  1.  1.  0.  1.  0.\n",
      "  0.  1.  1.  1.  0.  1.  1.  1.  0.  0.  0.  0.  1.  0.  1.  1.  1.  1.\n",
      "  1.  1.  1.  0.  1.  1.  0.  0.  1.  0.  0.  0.  1.  0.  0.  0.  1.  1.\n",
      "  1.  1.  0.  1.  1.  1.  0.  0.  0.  1.  0.  1.  0.  1.  1.  1.  1.  1.\n",
      "  0.  1.  1.  1.  0.  0.  1.  0.  0.  0.  0.  0.  1.  1.  1.  1.  1.  0.\n",
      "  0.  1.  1.  0.  0.  1.  1.  1.  0.  0.  1.  0.  1.  0.  1.  0.  1.  0.\n",
      "  0.  1.  1.  0.  1.  1.  1.  1.  1.  0.  1.  0.  0.  1.  1.  0.  0.  0.\n",
      "  1.  1.  0.  0.  1.  0.  1.  0.  0.  0.  1.  1.  1.  0.  0.  0.  1.  1.\n",
      "  1.  0.  0.  0.  0.  1.  0.  0.  1.  0.  0.  0.  1.  1.  1.  1.  1.  1.\n",
      "  1.  1.  1.  0.  1.  0.  1.  0.  1.  1.  1.  1.  1.  1.  0.  0.  1.  0.\n",
      "  0.  1.  1.  1.  1.  0.  0.  1.  0.  1.  0.  1.  0.  1.  1.  1.  1.  1.\n",
      "  0.  0.  1.  1.  1.  1.  0.  1.  0.  0.  1.  0.  0.  0.  1.  1.  0.  0.\n",
      "  1.  1.  1.  0.  1.  1.  1.  0.  1.  0.  0.  1.  0.  0.  1.  0.  0.  1.\n",
      "  0.  0.  0.  1.  1.  1.  1.  0.  0.  0.  0.  0.  1.  1.  1.  1.  0.  1.\n",
      "  1.  1.  0.  1.  0.  0.  1.  1.  1.  0.  1.  1.  0.  0.  1.  0.  1.  0.\n",
      "  0.  0.  1.  0.  1.  0.  1.  0.  0.  0.  0.  1.  0.  1.  1.  0.  1.  1.\n",
      "  0.  1.  0.  0.  0.  0.  1.  0.  0.  1.  0.  1.  0.  0.  1.  1.  0.  0.\n",
      "  1.  1.  1.  0.  1.  1.  1.  1.  0.  0.  0.  1.  0.  1.  1.  0.  0.  1.\n",
      "  0.  1.  0.  0.  1.  0.  1.  1.  0.  1.  0.  1.  1.  0.  0.  0.  0.  1.\n",
      "  0.  1.  0.  1.  1.  0.  0.  1.  0.  0.]\n"
     ]
    }
   ],
   "source": [
    "print(predicts_final)"
   ]
  },
  {
   "cell_type": "code",
   "execution_count": 23,
   "metadata": {
    "collapsed": true
   },
   "outputs": [],
   "source": [
    "index_kf = np.arange(len(predicts_final))+1\n",
    "\n",
    "printarray_kf = np.asarray([index_kf,predicts_final]).T\n",
    "np.savetxt('Logistic_kf_predictions.txt', printarray_kf, fmt='%1i', \n",
    "           delimiter=',', header='Id,Prediction')"
   ]
  },
  {
   "cell_type": "markdown",
   "metadata": {},
   "source": [
    "# Try a simple logistic regression model."
   ]
  },
  {
   "cell_type": "code",
   "execution_count": 3,
   "metadata": {
    "collapsed": true
   },
   "outputs": [],
   "source": [
    "clf = LogisticRegression()"
   ]
  },
  {
   "cell_type": "code",
   "execution_count": 4,
   "metadata": {
    "collapsed": false
   },
   "outputs": [
    {
     "data": {
      "text/plain": [
       "LogisticRegression(C=1.0, class_weight=None, dual=False, fit_intercept=True,\n",
       "          intercept_scaling=1, max_iter=100, multi_class='ovr', n_jobs=1,\n",
       "          penalty='l2', random_state=None, solver='liblinear', tol=0.0001,\n",
       "          verbose=0, warm_start=False)"
      ]
     },
     "execution_count": 4,
     "metadata": {},
     "output_type": "execute_result"
    }
   ],
   "source": [
    "clf.fit(X_train, y_train)"
   ]
  },
  {
   "cell_type": "code",
   "execution_count": 6,
   "metadata": {
    "collapsed": false
   },
   "outputs": [
    {
     "data": {
      "text/plain": [
       "0.87580000000000002"
      ]
     },
     "execution_count": 6,
     "metadata": {},
     "output_type": "execute_result"
    }
   ],
   "source": [
    "clf.score(X_train, y_train)"
   ]
  },
  {
   "cell_type": "code",
   "execution_count": 5,
   "metadata": {
    "collapsed": true
   },
   "outputs": [],
   "source": [
    "predictions = clf.predict(X_test)\n",
    "index = np.arange(len(predictions))+1\n",
    "\n",
    "printarray = np.asarray([index,predictions]).T\n",
    "np.savetxt('Logistic1_predictions.txt', printarray, fmt='%1i', \n",
    "           delimiter=',', header='Id,Prediction')"
   ]
  },
  {
   "cell_type": "code",
   "execution_count": 22,
   "metadata": {
    "collapsed": false
   },
   "outputs": [
    {
     "name": "stdout",
     "output_type": "stream",
     "text": [
      "[ 1.  1.  0. ...,  0.  1.  0.]\n"
     ]
    }
   ],
   "source": [
    "print(predictions)"
   ]
  }
 ],
 "metadata": {
  "kernelspec": {
   "display_name": "Python [conda root]",
   "language": "python",
   "name": "conda-root-py"
  },
  "language_info": {
   "codemirror_mode": {
    "name": "ipython",
    "version": 3
   },
   "file_extension": ".py",
   "mimetype": "text/x-python",
   "name": "python",
   "nbconvert_exporter": "python",
   "pygments_lexer": "ipython3",
   "version": "3.5.2"
  }
 },
 "nbformat": 4,
 "nbformat_minor": 2
}
