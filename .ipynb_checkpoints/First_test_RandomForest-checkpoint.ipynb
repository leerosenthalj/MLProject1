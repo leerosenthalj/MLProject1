{
 "cells": [
  {
   "cell_type": "code",
   "execution_count": 4,
   "metadata": {
    "collapsed": false
   },
   "outputs": [],
   "source": [
    "import numpy as np\n",
    "from sklearn.tree import DecisionTreeRegressor, DecisionTreeClassifier\n",
    "from sklearn.ensemble import RandomForestClassifier\n",
    "from IPython.display import HTML\n",
    "\n",
    "'''\n",
    "from boosting_helper import (\n",
    "    generate_dataset,\n",
    "    visualize_dataset,\n",
    "    gb_suite, ab_suite,\n",
    "    visualize_loss_curves_gb, visualize_loss_curves_ab,\n",
    "    animate_gb, animate_ab\n",
    ")\n",
    "'''\n",
    "\n",
    "import matplotlib.pyplot as plt\n",
    "%matplotlib inline"
   ]
  },
  {
   "cell_type": "code",
   "execution_count": 19,
   "metadata": {
    "collapsed": false
   },
   "outputs": [
    {
     "data": {
      "text/plain": [
       "'\\nX_train = training[:, :-1]\\ny_train = X[:, -1]\\n\\ntrain_size = 900\\n\\ntrain_data = data[0:train_size]\\ntrain_label = diag[0:train_size]\\ntest_data = data[train_size:]\\ntest_label = diag[train_size:]\\n'"
      ]
     },
     "execution_count": 19,
     "metadata": {},
     "output_type": "execute_result"
    }
   ],
   "source": [
    "# The number 24 in the next line corresponds to the number of header lines\n",
    "training_data = np.loadtxt('training_data.txt', skiprows=1)\n",
    "test_data = np.loadtxt('test_data.txt', skiprows=1)"
   ]
  },
  {
   "cell_type": "code",
   "execution_count": 20,
   "metadata": {
    "collapsed": false
   },
   "outputs": [
    {
     "name": "stdout",
     "output_type": "stream",
     "text": [
      "(20000, 1001) (10000, 1000)\n"
     ]
    }
   ],
   "source": [
    "print(training_data.shape, test_data.shape)"
   ]
  },
  {
   "cell_type": "code",
   "execution_count": 24,
   "metadata": {
    "collapsed": false
   },
   "outputs": [],
   "source": [
    "X_train = training_data[:,1:]\n",
    "y_train = training_data[:,0]\n",
    "\n",
    "X_test = test_data"
   ]
  },
  {
   "cell_type": "code",
   "execution_count": 28,
   "metadata": {
    "collapsed": false
   },
   "outputs": [
    {
     "name": "stdout",
     "output_type": "stream",
     "text": [
      "(20000, 1000)\n",
      "(20000,)\n",
      "(10000, 1000)\n"
     ]
    }
   ],
   "source": [
    "print(X_train.shape)\n",
    "print(y_train.shape)\n",
    "print(X_test.shape)"
   ]
  },
  {
   "cell_type": "code",
   "execution_count": 31,
   "metadata": {
    "collapsed": false
   },
   "outputs": [
    {
     "data": {
      "text/plain": [
       "0.99165000000000003"
      ]
     },
     "execution_count": 31,
     "metadata": {},
     "output_type": "execute_result"
    }
   ],
   "source": [
    "clf = RandomForestClassifier()\n",
    "clf.fit(X_train, y_train)\n",
    "clf.score(X_train, y_train)"
   ]
  },
  {
   "cell_type": "code",
   "execution_count": null,
   "metadata": {
    "collapsed": true
   },
   "outputs": [],
   "source": [
    "'''\n",
    "def classification_err(y, real_y):\n",
    "    \"\"\"\n",
    "    This function returns the classification error between two equally-sized vectors of \n",
    "    labels; this is the fraction of samples for which the labels differ.\n",
    "    \n",
    "    Inputs:\n",
    "        y: (N, ) shaped array of predicted labels\n",
    "        real_y: (N, ) shaped array of true labels\n",
    "    Output:\n",
    "        Scalar classification error\n",
    "\n",
    "    size = len(y)\n",
    "    diff = real_y - y\n",
    "    wrong = len(y)\n",
    "    \n",
    "    for i in np.arange(size):\n",
    "        if diff[i] == 0:\n",
    "            wrong -= 1\n",
    "    \n",
    "    return wrong/size\n",
    "\n",
    "#Hard-coding number of estimators for random forest classifiers.\n",
    "n_estimators = 1000\n",
    "\n",
    "def eval_tree_based_model_min_samples(clf, min_samples_leaf, X_train, y_train, X_test, y_test):\n",
    "    \"\"\"\n",
    "    This function evaluates the given classifier (either a decision tree or random forest) at all of the \n",
    "    minimum leaf size parameters in the vector min_samples_leaf, using the given training and testing\n",
    "    data. It returns two vector, with the training and testing classification errors.\n",
    "    \n",
    "    Inputs:\n",
    "        clf: either a decision tree or random forest classifier object\n",
    "        min_samples_leaf: a (T, ) vector of all the min_samples_leaf stopping condition parameters \n",
    "                            to test, where T is the number of parameters to test\n",
    "        X_train: (N, D) matrix of training samples.\n",
    "        y_train: (N, ) vector of training labels.\n",
    "        X_test: (N, D) matrix of test samples\n",
    "        y_test: (N, ) vector of test labels\n",
    "    Output:\n",
    "        train_err: (T, ) vector of classification errors on the training data\n",
    "        test_err: (T, ) vector of classification errors on the test data\n",
    "    \"\"\"\n",
    "    #================================================================\n",
    "    # TODO: Implement the eval_tree_based_model_min_samples function,\n",
    "    # based on the above instructions.\n",
    "    #================================================================ \n",
    "    train_err = np.zeros(len(min_samples_leaf))\n",
    "    test_err = np.zeros(len(min_samples_leaf))    \n",
    "    \n",
    "    #Iterate over all parameters of the data, returning classification error for each parameter.\n",
    "    for i in np.arange(len(min_samples_leaf)):\n",
    "        \n",
    "        clf.set_params(min_samples_leaf=min_samples_leaf[i])\n",
    "        clf.fit(X_train, y_train)\n",
    "        \n",
    "        train_err[i] = classification_err(clf.predict(X_train), y_train)\n",
    "        test_err[i] = classification_err(clf.predict(X_test), y_test)\n",
    "    \n",
    "    return train_err, test_err\n",
    "\n",
    "'''"
   ]
  }
 ],
 "metadata": {
  "kernelspec": {
   "display_name": "Python [conda root]",
   "language": "python",
   "name": "conda-root-py"
  },
  "language_info": {
   "codemirror_mode": {
    "name": "ipython",
    "version": 3
   },
   "file_extension": ".py",
   "mimetype": "text/x-python",
   "name": "python",
   "nbconvert_exporter": "python",
   "pygments_lexer": "ipython3",
   "version": "3.5.2"
  }
 },
 "nbformat": 4,
 "nbformat_minor": 2
}
